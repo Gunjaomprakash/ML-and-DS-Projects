{
  "cells": [
    {
      "cell_type": "code",
      "execution_count": 1,
      "id": "8249229f",
      "metadata": {
        "id": "8249229f",
        "outputId": "ca596171-fb4b-43e6-e868-9743425fe762",
        "colab": {
          "base_uri": "https://localhost:8080/"
        }
      },
      "outputs": [
        {
          "output_type": "stream",
          "name": "stdout",
          "text": [
            "\u001b[2K   \u001b[90m━━━━━━━━━━━━━━━━━━━━━━━━━━━━━━━━━━━━━━━━\u001b[0m \u001b[32m363.4/363.4 MB\u001b[0m \u001b[31m3.9 MB/s\u001b[0m eta \u001b[36m0:00:00\u001b[0m\n",
            "\u001b[2K   \u001b[90m━━━━━━━━━━━━━━━━━━━━━━━━━━━━━━━━━━━━━━━━\u001b[0m \u001b[32m13.8/13.8 MB\u001b[0m \u001b[31m40.0 MB/s\u001b[0m eta \u001b[36m0:00:00\u001b[0m\n",
            "\u001b[2K   \u001b[90m━━━━━━━━━━━━━━━━━━━━━━━━━━━━━━━━━━━━━━━━\u001b[0m \u001b[32m24.6/24.6 MB\u001b[0m \u001b[31m31.7 MB/s\u001b[0m eta \u001b[36m0:00:00\u001b[0m\n",
            "\u001b[2K   \u001b[90m━━━━━━━━━━━━━━━━━━━━━━━━━━━━━━━━━━━━━━━━\u001b[0m \u001b[32m883.7/883.7 kB\u001b[0m \u001b[31m42.6 MB/s\u001b[0m eta \u001b[36m0:00:00\u001b[0m\n",
            "\u001b[2K   \u001b[90m━━━━━━━━━━━━━━━━━━━━━━━━━━━━━━━━━━━━━━━━\u001b[0m \u001b[32m664.8/664.8 MB\u001b[0m \u001b[31m2.6 MB/s\u001b[0m eta \u001b[36m0:00:00\u001b[0m\n",
            "\u001b[2K   \u001b[90m━━━━━━━━━━━━━━━━━━━━━━━━━━━━━━━━━━━━━━━━\u001b[0m \u001b[32m211.5/211.5 MB\u001b[0m \u001b[31m5.1 MB/s\u001b[0m eta \u001b[36m0:00:00\u001b[0m\n",
            "\u001b[2K   \u001b[90m━━━━━━━━━━━━━━━━━━━━━━━━━━━━━━━━━━━━━━━━\u001b[0m \u001b[32m56.3/56.3 MB\u001b[0m \u001b[31m13.3 MB/s\u001b[0m eta \u001b[36m0:00:00\u001b[0m\n",
            "\u001b[2K   \u001b[90m━━━━━━━━━━━━━━━━━━━━━━━━━━━━━━━━━━━━━━━━\u001b[0m \u001b[32m127.9/127.9 MB\u001b[0m \u001b[31m7.5 MB/s\u001b[0m eta \u001b[36m0:00:00\u001b[0m\n",
            "\u001b[2K   \u001b[90m━━━━━━━━━━━━━━━━━━━━━━━━━━━━━━━━━━━━━━━━\u001b[0m \u001b[32m207.5/207.5 MB\u001b[0m \u001b[31m5.6 MB/s\u001b[0m eta \u001b[36m0:00:00\u001b[0m\n",
            "\u001b[2K   \u001b[90m━━━━━━━━━━━━━━━━━━━━━━━━━━━━━━━━━━━━━━━━\u001b[0m \u001b[32m21.1/21.1 MB\u001b[0m \u001b[31m102.9 MB/s\u001b[0m eta \u001b[36m0:00:00\u001b[0m\n",
            "\u001b[?25h"
          ]
        }
      ],
      "source": [
        "# Install required packages (if needed)\n",
        "%pip install -q torch torchvision\n"
      ]
    },
    {
      "cell_type": "code",
      "execution_count": 2,
      "id": "c4364355",
      "metadata": {
        "id": "c4364355",
        "outputId": "22e912e2-d858-4cf9-bfe6-2157f8c1900c",
        "colab": {
          "base_uri": "https://localhost:8080/"
        }
      },
      "outputs": [
        {
          "output_type": "stream",
          "name": "stdout",
          "text": [
            "Using device: cuda\n"
          ]
        }
      ],
      "source": [
        "# Imports\n",
        "import torch\n",
        "import torch.nn as nn\n",
        "import torch.nn.functional as F\n",
        "import torch.optim as optim\n",
        "from torchvision import datasets, transforms\n",
        "from torch.utils.data import DataLoader, random_split\n",
        "\n",
        "# Basic setup\n",
        "device = torch.device(\"cuda\" if torch.cuda.is_available() else \"cpu\")\n",
        "print(f\"Using device: {device}\")"
      ]
    },
    {
      "cell_type": "code",
      "execution_count": 3,
      "id": "233dddab",
      "metadata": {
        "id": "233dddab",
        "outputId": "ccc0ad8c-3adf-410d-883d-195faac9a7c0",
        "colab": {
          "base_uri": "https://localhost:8080/"
        }
      },
      "outputs": [
        {
          "output_type": "stream",
          "name": "stderr",
          "text": [
            "100%|██████████| 9.91M/9.91M [00:00<00:00, 17.2MB/s]\n",
            "100%|██████████| 28.9k/28.9k [00:00<00:00, 489kB/s]\n",
            "100%|██████████| 1.65M/1.65M [00:00<00:00, 3.87MB/s]\n",
            "100%|██████████| 4.54k/4.54k [00:00<00:00, 7.21MB/s]\n"
          ]
        }
      ],
      "source": [
        "# Transform: Normalize images to [0, 1] and flatten them\n",
        "transform = transforms.Compose([\n",
        "    transforms.ToTensor(),  # Convert to tensor\n",
        "    transforms.Normalize((0.1307,), (0.3081,))  # Standard MNIST normalization\n",
        "])\n",
        "\n",
        "# Download and load data\n",
        "train_dataset = datasets.MNIST(root='./data', train=True, download=True, transform=transform)\n",
        "test_dataset  = datasets.MNIST(root='./data', train=False, download=True, transform=transform)\n",
        "\n",
        "# For speed: use a smaller subset\n",
        "train_dataset, _ = random_split(train_dataset, [10000, len(train_dataset) - 10000])\n",
        "\n",
        "train_loader = DataLoader(train_dataset, batch_size=64, shuffle=True)\n",
        "test_loader  = DataLoader(test_dataset, batch_size=1000)"
      ]
    },
    {
      "cell_type": "code",
      "source": [
        "import matplotlib.pyplot as plt\n",
        "\n",
        "# Get a batch of images\n",
        "examples = next(iter(train_loader))\n",
        "images, labels = examples\n",
        "\n",
        "# Plot the first 6 images\n",
        "plt.figure(figsize=(10, 2))\n",
        "for i in range(7):\n",
        "    plt.subplot(1, 7, i + 1)\n",
        "    plt.imshow(images[i][0], cmap=\"gray\")\n",
        "    plt.title(f\"Label: {labels[i].item()}\")\n",
        "    plt.axis('off')\n",
        "plt.tight_layout()\n",
        "plt.show()"
      ],
      "metadata": {
        "id": "4sabVOeMHLOe",
        "outputId": "15b6a222-4d9e-4bfe-e9f9-8d0077f9f1fe",
        "colab": {
          "base_uri": "https://localhost:8080/",
          "height": 124
        }
      },
      "id": "4sabVOeMHLOe",
      "execution_count": 6,
      "outputs": [
        {
          "output_type": "display_data",
          "data": {
            "text/plain": [
              "<Figure size 1000x200 with 7 Axes>"
            ],
            "image/png": "[encoded data removed]"
          },
          "metadata": {}
        }
      ]
    },
    {
      "cell_type": "code",
      "source": [
        "# Teacher: bigger model\n",
        "class TeacherNet(nn.Module):\n",
        "    def __init__(self):\n",
        "        super().__init__()\n",
        "        self.fc1 = nn.Linear(28*28, 1200)\n",
        "        self.fc2 = nn.Linear(1200, 600)\n",
        "        self.fc3 = nn.Linear(600, 10)\n",
        "\n",
        "    def forward(self, x):\n",
        "        x = x.view(-1, 28*28)\n",
        "        x = F.relu(self.fc1(x))\n",
        "        x = F.relu(self.fc2(x))\n",
        "        return self.fc3(x)\n",
        "\n",
        "# Student: smaller model\n",
        "class StudentNet(nn.Module):\n",
        "    def __init__(self):\n",
        "        super().__init__()\n",
        "        self.fc1 = nn.Linear(28*28, 300)\n",
        "        self.fc2 = nn.Linear(300, 100)\n",
        "        self.fc3 = nn.Linear(100, 10)\n",
        "\n",
        "    def forward(self, x):\n",
        "        x = x.view(-1, 28*28)\n",
        "        x = F.relu(self.fc1(x))\n",
        "        x = F.relu(self.fc2(x))\n",
        "        return self.fc3(x)"
      ],
      "metadata": {
        "id": "Vx4ENOxCHdVy"
      },
      "id": "Vx4ENOxCHdVy",
      "execution_count": 7,
      "outputs": []
    },
    {
      "cell_type": "code",
      "source": [
        "def train_teacher(model, train_loader, epochs=5, lr=1e-3):\n",
        "    model.to(device)\n",
        "    optimizer = optim.Adam(model.parameters(), lr=lr)\n",
        "    criterion = nn.CrossEntropyLoss()\n",
        "\n",
        "    model.train()\n",
        "    for epoch in range(epochs):\n",
        "        total_loss = 0\n",
        "        for x, y in train_loader:\n",
        "            x, y = x.to(device), y.to(device)\n",
        "            optimizer.zero_grad()\n",
        "            output = model(x)\n",
        "            loss = criterion(output, y)\n",
        "            loss.backward()\n",
        "            optimizer.step()\n",
        "            total_loss += loss.item()\n",
        "        print(f\"Epoch {epoch+1}/{epochs}, Loss: {total_loss:.4f}\")\n",
        "    return model\n",
        "\n",
        "# Instantiate and train teacher\n",
        "teacher_model = TeacherNet()\n",
        "teacher_model = train_teacher(teacher_model, train_loader)"
      ],
      "metadata": {
        "id": "t9r2CJRdHov4",
        "outputId": "63c4918f-2ee2-4d5e-9bd8-28daa6c2dda5",
        "colab": {
          "base_uri": "https://localhost:8080/"
        }
      },
      "id": "t9r2CJRdHov4",
      "execution_count": 8,
      "outputs": [
        {
          "output_type": "stream",
          "name": "stdout",
          "text": [
            "Epoch 1/5, Loss: 62.8367\n",
            "Epoch 2/5, Loss: 23.4720\n",
            "Epoch 3/5, Loss: 16.1862\n",
            "Epoch 4/5, Loss: 11.2762\n",
            "Epoch 5/5, Loss: 8.4171\n"
          ]
        }
      ]
    },
    {
      "cell_type": "code",
      "source": [
        "def evaluate(model, test_loader):\n",
        "    model.eval()\n",
        "    correct = 0\n",
        "    total = 0\n",
        "\n",
        "    with torch.no_grad():\n",
        "        for x, y in test_loader:\n",
        "            x, y = x.to(device), y.to(device)\n",
        "            logits = model(x)\n",
        "            pred = logits.argmax(dim=1)\n",
        "            correct += (pred == y).sum().item()\n",
        "            total += y.size(0)\n",
        "\n",
        "    acc = 100.0 * correct / total\n",
        "    print(f\"Accuracy: {acc:.2f}%\")\n",
        "    return acc\n",
        "\n",
        "# Evaluate teacher model\n",
        "evaluate(teacher_model, test_loader)"
      ],
      "metadata": {
        "id": "1fCpkl39H3h2",
        "outputId": "4b732763-44f3-4933-ebb5-7850cac1a393",
        "colab": {
          "base_uri": "https://localhost:8080/"
        }
      },
      "id": "1fCpkl39H3h2",
      "execution_count": 9,
      "outputs": [
        {
          "output_type": "stream",
          "name": "stdout",
          "text": [
            "Accuracy: 95.35%\n"
          ]
        },
        {
          "output_type": "execute_result",
          "data": {
            "text/plain": [
              "95.35"
            ]
          },
          "metadata": {},
          "execution_count": 9
        }
      ]
    },
    {
      "cell_type": "code",
      "source": [
        "def train_student_hard(student_model, train_loader, epochs=5, lr=1e-3):\n",
        "    student_model.to(device)\n",
        "    optimizer = optim.Adam(student_model.parameters(), lr=lr)\n",
        "    criterion = nn.CrossEntropyLoss()\n",
        "\n",
        "    student_model.train()\n",
        "    for epoch in range(epochs):\n",
        "        total_loss = 0\n",
        "        for x, y in train_loader:\n",
        "            x, y = x.to(device), y.to(device)\n",
        "            optimizer.zero_grad()\n",
        "            output = student_model(x)\n",
        "            loss = criterion(output, y)\n",
        "            loss.backward()\n",
        "            optimizer.step()\n",
        "            total_loss += loss.item()\n",
        "        print(f\"Epoch {epoch+1}/{epochs}, Loss: {total_loss:.4f}\")\n",
        "    return student_model\n",
        "\n",
        "# Train the student model (hard labels only)\n",
        "student_hard = StudentNet()\n",
        "student_hard = train_student_hard(student_hard, train_loader)"
      ],
      "metadata": {
        "id": "wWk-bhmpH8Km",
        "outputId": "56018000-a351-4d2e-c445-1eddd2dd257f",
        "colab": {
          "base_uri": "https://localhost:8080/"
        }
      },
      "id": "wWk-bhmpH8Km",
      "execution_count": 10,
      "outputs": [
        {
          "output_type": "stream",
          "name": "stdout",
          "text": [
            "Epoch 1/5, Loss: 82.2910\n",
            "Epoch 2/5, Loss: 34.8895\n",
            "Epoch 3/5, Loss: 22.3143\n",
            "Epoch 4/5, Loss: 15.4817\n",
            "Epoch 5/5, Loss: 9.4693\n"
          ]
        }
      ]
    },
    {
      "cell_type": "code",
      "source": [
        "# Evaluate student trained on hard labels\n",
        "evaluate(student_hard, test_loader)"
      ],
      "metadata": {
        "id": "kLfh4rZjIC27",
        "outputId": "762b0196-64a2-4d4d-c0e7-95748e10b48a",
        "colab": {
          "base_uri": "https://localhost:8080/"
        }
      },
      "id": "kLfh4rZjIC27",
      "execution_count": 11,
      "outputs": [
        {
          "output_type": "stream",
          "name": "stdout",
          "text": [
            "Accuracy: 95.45%\n"
          ]
        },
        {
          "output_type": "execute_result",
          "data": {
            "text/plain": [
              "95.45"
            ]
          },
          "metadata": {},
          "execution_count": 11
        }
      ]
    },
    {
      "cell_type": "code",
      "source": [
        "def distillation_loss(student_logits, teacher_logits, temperature):\n",
        "    \"\"\"\n",
        "    Computes the soft loss: KL Divergence between teacher and student logits.\n",
        "    \"\"\"\n",
        "    T = temperature\n",
        "    student_probs = F.log_softmax(student_logits / T, dim=1)\n",
        "    teacher_probs = F.softmax(teacher_logits / T, dim=1)\n",
        "    return F.kl_div(student_probs, teacher_probs, reduction=\"batchmean\") * (T ** 2)\n",
        "\n",
        "def train_student_distilled(student_model, teacher_model, train_loader, epochs=5, lr=1e-3, temperature=5.0, alpha=0.5):\n",
        "    student_model.to(device)\n",
        "    teacher_model.to(device)\n",
        "    teacher_model.eval()\n",
        "\n",
        "    optimizer = optim.Adam(student_model.parameters(), lr=lr)\n",
        "    ce_loss = nn.CrossEntropyLoss()\n",
        "\n",
        "    student_model.train()\n",
        "    for epoch in range(epochs):\n",
        "        total_loss = 0\n",
        "        for x, y in train_loader:\n",
        "            x, y = x.to(device), y.to(device)\n",
        "            optimizer.zero_grad()\n",
        "\n",
        "            with torch.no_grad():\n",
        "                teacher_logits = teacher_model(x)\n",
        "\n",
        "            student_logits = student_model(x)\n",
        "\n",
        "            loss_soft = distillation_loss(student_logits, teacher_logits, temperature)\n",
        "            loss_hard = ce_loss(student_logits, y)\n",
        "\n",
        "            loss = alpha * loss_soft + (1 - alpha) * loss_hard\n",
        "            loss.backward()\n",
        "            optimizer.step()\n",
        "\n",
        "            total_loss += loss.item()\n",
        "        print(f\"Epoch {epoch+1}/{epochs}, Distilled Loss: {total_loss:.4f}\")\n",
        "\n",
        "    return student_model\n",
        "\n",
        "# Train student with distillation\n",
        "student_distilled = StudentNet()\n",
        "student_distilled = train_student_distilled(student_distilled, teacher_model, train_loader)"
      ],
      "metadata": {
        "id": "ZeYVoxArIKZB",
        "outputId": "6fc6915c-8319-4fd3-b242-2362e7de01b9",
        "colab": {
          "base_uri": "https://localhost:8080/"
        }
      },
      "id": "ZeYVoxArIKZB",
      "execution_count": 13,
      "outputs": [
        {
          "output_type": "stream",
          "name": "stdout",
          "text": [
            "Epoch 1/5, Distilled Loss: 553.7055\n",
            "Epoch 2/5, Distilled Loss: 131.1812\n",
            "Epoch 3/5, Distilled Loss: 65.5557\n",
            "Epoch 4/5, Distilled Loss: 42.6676\n",
            "Epoch 5/5, Distilled Loss: 28.3162\n"
          ]
        }
      ]
    },
    {
      "cell_type": "code",
      "source": [
        "# Evaluate student trained with distillation\n",
        "evaluate(student_distilled, test_loader)"
      ],
      "metadata": {
        "id": "XANbI1GxIRCU",
        "outputId": "c74117ad-9ca9-4265-ba8b-d884bc3081b6",
        "colab": {
          "base_uri": "https://localhost:8080/"
        }
      },
      "id": "XANbI1GxIRCU",
      "execution_count": 14,
      "outputs": [
        {
          "output_type": "stream",
          "name": "stdout",
          "text": [
            "Accuracy: 94.97%\n"
          ]
        },
        {
          "output_type": "execute_result",
          "data": {
            "text/plain": [
              "94.97"
            ]
          },
          "metadata": {},
          "execution_count": 14
        }
      ]
    },
    {
      "cell_type": "code",
      "source": [
        "def count_params(model):\n",
        "    return sum(p.numel() for p in model.parameters() if p.requires_grad)\n",
        "\n",
        "print(f\"Teacher params:  {count_params(teacher_model):,}\")\n",
        "print(f\"Student (hard) params:  {count_params(student_hard):,}\")\n",
        "print(f\"Student (distilled) params:  {count_params(student_distilled):,}\")"
      ],
      "metadata": {
        "id": "ntfRdlFvIXD9",
        "outputId": "d9f3a65e-57bc-4bcb-c88e-2a34ebb5e379",
        "colab": {
          "base_uri": "https://localhost:8080/"
        }
      },
      "id": "ntfRdlFvIXD9",
      "execution_count": 15,
      "outputs": [
        {
          "output_type": "stream",
          "name": "stdout",
          "text": [
            "Teacher params:  1,668,610\n",
            "Student (hard) params:  266,610\n",
            "Student (distilled) params:  266,610\n"
          ]
        }
      ]
    },
    {
      "cell_type": "markdown",
      "source": [
        "# 🧪 Knowledge Distillation on MNIST: Hands-on Demo\n",
        "\n",
        "This notebook demonstrates **Knowledge Distillation**, a technique to train a smaller neural network (student) by learning from a larger, well-trained model (teacher).\n",
        "\n",
        "---\n",
        "\n",
        "## 📌 Objective\n",
        "\n",
        "- Compare three models on the MNIST digit classification task:\n",
        "  - A **Teacher** model (large)\n",
        "  - A **Student** trained with **hard labels** (baseline)\n",
        "  - A **Student** trained via **Knowledge Distillation** (soft labels)\n",
        "\n",
        "---\n",
        "\n",
        "## 📊 Experiment Setup\n",
        "\n",
        "- Dataset: 10k samples from MNIST (for speed)\n",
        "- Input: 28×28 grayscale digit images\n",
        "- Framework: PyTorch\n",
        "\n",
        "### Models:\n",
        "\n",
        "| Model   | Architecture | Param Count |\n",
        "|---------|--------------|-------------|\n",
        "| Teacher | 784 → 1200 → 600 → 10 | 1.67M |\n",
        "| Student | 784 → 300 → 100 → 10 | 266k |\n",
        "\n",
        "---\n",
        "\n",
        "## ⚙️ Training Overview\n",
        "\n",
        "- **Teacher**: Trained on ground truth with CrossEntropyLoss\n",
        "- **Hard-label Student**: Same loss, smaller model\n",
        "- **Distilled Student**:\n",
        "  - Trained on a **blend of soft labels (KL-Divergence)** and hard labels\n",
        "  - Temperature = 5.0\n",
        "  - Alpha (soft/hard loss mix) = 0.5\n",
        "\n",
        "---\n",
        "\n",
        "## 📈 Results\n",
        "\n",
        "| Model                | Params     | Accuracy  |\n",
        "|---------------------|------------|-----------|\n",
        "| **Teacher**          | 1,668,610  | **95.35%** |\n",
        "| **Student (hard)**   | 266,610    | **95.45%** |\n",
        "| **Student (distilled)** | 266,610    | **94.97%** |\n",
        "\n",
        "---\n",
        "\n",
        "## 🧠 Observations\n",
        "\n",
        "- The **student (hard)** surprisingly matched or slightly outperformed the teacher.\n",
        "- The **distilled student** performed slightly worse, possibly due to:\n",
        "  - Small dataset\n",
        "  - Suboptimal temperature or alpha\n",
        "- Distillation gains are more pronounced on complex tasks or larger datasets.\n",
        "\n",
        "---\n",
        "\n",
        "## ✅ Key Learnings\n",
        "\n",
        "- Distillation transfers *soft knowledge* — not just correct answers, but *probabilities over alternatives*.\n",
        "- Works best when:\n",
        "  - Teacher is significantly stronger than student\n",
        "  - Task is complex enough to benefit from richer supervision\n",
        "- A distilled model retains teacher-like performance while being lightweight.\n"
      ],
      "metadata": {
        "id": "mvXlnuWrI44E"
      },
      "id": "mvXlnuWrI44E"
    },
    {
      "cell_type": "code",
      "source": [],
      "metadata": {
        "id": "JZGl9KEhI5bE"
      },
      "id": "JZGl9KEhI5bE",
      "execution_count": null,
      "outputs": []
    }
  ],
  "metadata": {
    "kernelspec": {
      "display_name": "Python 3",
      "name": "python3"
    },
    "language_info": {
      "codemirror_mode": {
        "name": "ipython",
        "version": 3
      },
      "file_extension": ".py",
      "mimetype": "text/x-python",
      "name": "python",
      "nbconvert_exporter": "python",
      "pygments_lexer": "ipython3",
      "version": "3.10.15"
    },
    "colab": {
      "provenance": [],
      "gpuType": "T4"
    },
    "accelerator": "GPU"
  },
  "nbformat": 4,
  "nbformat_minor": 5
}